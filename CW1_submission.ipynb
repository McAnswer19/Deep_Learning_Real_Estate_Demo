{
 "cells": [
  {
   "cell_type": "markdown",
   "id": "bcdd8556",
   "metadata": {},
   "source": [
    "# Introduction"
   ]
  },
  {
   "cell_type": "markdown",
   "id": "2b5b833f",
   "metadata": {},
   "source": [
    "One very hot area in the current field of data science is forecasting housing and real-estate prices. The real-estate company Zillow recently made headlines when they announced that they were discontinuing their “iBuying” feature as they were rapidly losing money due to a failure to accurately estimate house prices using algorithms. In general, financial data modeling and financial forecasting is extremely difficult (bordering on “impossible”), and real-estate forecasting has many similar problems. \n",
    "\n",
    "In light of this, it seemed obvious that a housing dataset would make a good choice for the assignment as most people interact with the real estate market over their lifetimes and the usual features of housing datasets (geographic features, physical features, etc.) are quite fun to play around with. Consequently, a suitable housing dataset was found and used as the basis for the assignment. \n"
   ]
  },
  {
   "cell_type": "markdown",
   "id": "12d9f86f",
   "metadata": {},
   "source": [
    "# Methodology"
   ]
  },
  {
   "cell_type": "markdown",
   "id": "cb188fc6",
   "metadata": {},
   "source": [
    "## Data and Data Cleaning\n",
    "\n",
    "The dataset of interest came from kaggle.com and concerned housing data from the city of Melbourne, Australia in the years 2017 and 2018 (https://www.kaggle.com/anthonypino/melbourne-housing-market?select=Melbourne_housing_FULL.csv). The Kaggle dataset did not originally have a data dictionary and documentation was very sparse in general, but a data dictionary was found on a third-party GitHub repository (https://github.com/njtierney/melb-housing-data), which helped shed light on some of the data attributes.  The base dataset had 34,857 rows and 21 columns. \n",
    "\n",
    "Cleaning the data was a multi-step process. To start with, all rows that did not have pricing information were dropped.  A number of columns were also dropped. This was because these were irrelevant or hard to work with (such as the name of the seller or the date sold) or because the number of unique values was prohibitively large (such as the list of unique addresses). In total, 9 features were dropped in this manner. \n",
    "\n",
    "One tricky thing to consider was the question of area (how large the property is), which was expected to correlate highly with price. In the base dataset there were two features meant to estimate this (“Landsize” and “BuildingArea”), but neither feature appeared in the data dictionary, both had very large numbers of missing values (about 9,200 for Landsize and about 16,600 for BuildingArea), and for cases where neither value was missing one value was not consistently larger than the other. While definitely dirty and lacking in documentation, early exploration showed that both variables had a Pearson’s correlation of more than 0.4 with price, meaning that they were too valuable to simply discard. \n",
    "\n",
    "To reconcile this, a new feature, “Area”, was engineered which was equal to the average of Landsize and BuildingArea (for cases where both values existed) or just whichever value was present (if only one value was present for a given datapoint). “Area” was then taken to the 4th root to ensure a sufficiently smooth distribution between 0 and 1 during the normalization phase of the data cleaning process. \n",
    "\n",
    "To finish cleaning the dataset, two outliers for “Price” and “YearBuilt” were excluded and almost all features were scaled to be in the range of 0 to 1 with missing values indicated as -1. The two remaining nominal variables (“Type” and “RegionName”) were converted to a one hot encoding scheme. The final, cleaned dataset consisted of 27,245 rows and 11 features (21 features after one hot encoding). The final list of features in the cleaned dataset and how they were processed can be seen in Table 1. \n"
   ]
  },
  {
   "cell_type": "markdown",
   "id": "80ebe35b",
   "metadata": {},
   "source": [
    "\n",
    "## Table of Features in Cleaned Dataset\n",
    "\n",
    "\n",
    "| Column | Definition | Handling\n",
    "| --- | --- | --- |\n",
    "| Rooms | The number of bedrooms in the property | Normalized |\n",
    "| Type | The property type (house, townhouse, or unit) | One Hot Encoded|\n",
    "| Price | The sale price in Australian Dollars. Also the label variable to be predicted | Unaltered, rows with missing values dropped |\n",
    "| Distance | The property's distance from the Melbourne Central Business District (in km) | Normalized |\n",
    "| Bathroom | The number of bathrooms | Normalized |\n",
    "| Car | The number of carspots for the property | Normalized |\n",
    "| Area | An engineered feature representing the \"size\" of the property | Engineered, taken to the 4th root  |\n",
    "| YearBuilt |The year the property was built| Normalized |\n",
    "| Lattitude | The latititude of the property |Normalized |\n",
    "| Longtitude | The longitude of the property | Normalized|\n",
    "| Regionname | The name of the city region the property exists in | One Hot Encoded |\n",
    "\n",
    "<br>\n",
    "<center><b>Table 1:</b> List of features in the cleaned dataset </center>"
   ]
  },
  {
   "cell_type": "code",
   "execution_count": 1,
   "id": "553d2542",
   "metadata": {},
   "outputs": [],
   "source": [
    "import numpy as np\n",
    "import pandas as pd\n",
    "import matplotlib.pyplot as plt\n",
    "import gc\n",
    "\n",
    "from sklearn.metrics import mean_absolute_error\n",
    "\n",
    "from tensorflow.keras import models, layers\n",
    "from tensorflow.keras.optimizers import Adam, RMSprop\n",
    "from tensorflow.random import set_seed"
   ]
  },
  {
   "cell_type": "code",
   "execution_count": 2,
   "id": "7f5f9144",
   "metadata": {},
   "outputs": [],
   "source": [
    "# helper functions. \n",
    "\n",
    "def normalize(df, list_of_cols): \n",
    "    \"\"\"Helper function that normalizes the given columns for a df. Returns the new df.\"\"\"\n",
    "    for col in list_of_cols:\n",
    "        df[col] = (df[col] - np.nanmin(df[col]))/(np.nanmax(df[col]) - np.nanmin(df[col]))\n",
    "        \n",
    "        \n",
    "    return(df)\n",
    "\n",
    "\n",
    "def split_into_validate(data_array, labels_array, validation_proportion): \n",
    "    \"\"\"Helper function that split train_x and train_y into train and validate x and y\"\"\"\n",
    "\n",
    "    \n",
    "    # Getting train and validation indices. Validation indices are randomly selected from overall. Train indices are\n",
    "    # just whichever indices where not chosen as validation indices\n",
    "    overall_indices = range(len(data_array))\n",
    "    \n",
    "    val_indices = np.random.choice(a = overall_indices, size = int(len(data_array) * validation_proportion), \n",
    "                                    replace = False) \n",
    "    \n",
    "    # Training inidices are the set of overall indices after we take out the validation indices\n",
    "    train_indices = list(set(overall_indices).difference(val_indices))\n",
    "    \n",
    "    # train data partition\n",
    "    train_X = data_array[train_indices]\n",
    "    train_Y = labels_array[train_indices]\n",
    "        \n",
    "    # validation data partition\n",
    "    val_X = data_array[val_indices]\n",
    "    val_Y = labels_array[val_indices]\n",
    "    \n",
    "    return(train_X, train_Y, val_X, val_Y)"
   ]
  },
  {
   "cell_type": "code",
   "execution_count": 3,
   "id": "c1cb7894",
   "metadata": {},
   "outputs": [],
   "source": [
    "# Setting seeds for replication. \n",
    "seed_val = 19\n",
    "\n",
    "np.random.seed(seed_val)\n",
    "set_seed(seed_val)"
   ]
  },
  {
   "cell_type": "code",
   "execution_count": 4,
   "id": "0d98338a",
   "metadata": {},
   "outputs": [
    {
     "name": "stderr",
     "output_type": "stream",
     "text": [
      "C:\\Users\\Jack\\AppData\\Local\\Temp/ipykernel_35880/3317385550.py:17: RuntimeWarning: Mean of empty slice\n",
      "  cleaned_df[\"Area\"] = np.nanmean(temp_matrix, axis = 1)\n"
     ]
    }
   ],
   "source": [
    "# Reading in the base df\n",
    "base_df = pd.read_csv(\"Melbourne_housing_FULL.csv\")\n",
    "\n",
    "# Drop all rows where we don't have price data. \n",
    "cleaned_df = base_df[base_df[\"Price\"].notna()]\n",
    "\n",
    "# Get rid of the annyoing warning messages for slice assignment. \n",
    "pd.options.mode.chained_assignment = None  # default='warn'\n",
    "\n",
    "# Drop some columns. Either too many unique values or just generally irrelvent. \n",
    "drop_cols = [\"Suburb\", \"Address\", \"Method\", \"SellerG\", \"Date\",  \"Postcode\", \"Bedroom2\", \n",
    "             \"Propertycount\", \"CouncilArea\"]\n",
    "cleaned_df.drop(axis = 1, columns=drop_cols, inplace=True)\n",
    "\n",
    "# Build a new measure, \"Area\", from the two really dirty columns. \n",
    "temp_matrix = cleaned_df[[\"Landsize\", \"BuildingArea\"]].values\n",
    "cleaned_df[\"Area\"] = np.nanmean(temp_matrix, axis = 1)\n",
    "\n",
    "# Area has an extremely long tail. Take the 4th root to compress the range of value and\n",
    "# prevent bunching. \n",
    "cleaned_df[\"Area\"] = np.sqrt(np.sqrt(cleaned_df[\"Area\"])) \n",
    "\n",
    "# No longer needed. \n",
    "del temp_matrix         \n",
    "\n",
    "# Drop the no longer needed columns relating to area. \n",
    "drop_cols = [\"Landsize\", \"BuildingArea\"]\n",
    "cleaned_df.drop(axis = 1, columns=drop_cols, inplace=True)\n",
    "\n",
    "# rename one of the columns. \n",
    "cleaned_df.rename(columns ={\"Regionname\": \"RegionName\"}, inplace =True )\n",
    "\n",
    "# Excluding a few outliers we noticed during exploration. We drop them from the dataset.\n",
    "cleaned_df = cleaned_df[cleaned_df[\"Price\"] != 11200000.0]\n",
    "cleaned_df = cleaned_df[cleaned_df[\"YearBuilt\"]!= 1196]\n",
    "\n",
    "\n",
    "# For all these columns, range to [0 - 1]. Missing values will be indicated with -1. \n",
    "normalized_columns = ['Rooms', 'Distance', 'Bathroom', 'Car', 'YearBuilt', 'Lattitude', 'Longtitude', \"Area\"]\n",
    "cleaned_df = normalize(cleaned_df, normalized_columns)\n",
    "\n",
    "\n",
    "# For the entire dataframe, fill in NA values with -1 after normalization.\n",
    "cleaned_df.fillna(value = -1, inplace = True)\n",
    "\n",
    "# For all these, convert labels to OHE. \n",
    "cleaned_df = pd.get_dummies(data = cleaned_df, columns= [\"Type\", \"RegionName\"])\n",
    "\n",
    "\n",
    "# Save cleaned dataframe to disk, just to be on the safe side. \n",
    "cleaned_df.to_csv(\"cleaned_melbourne.csv\", header=True, index=False)"
   ]
  },
  {
   "cell_type": "code",
   "execution_count": 5,
   "id": "fbb12d22",
   "metadata": {},
   "outputs": [],
   "source": [
    "# Going over everything to make sure our distributions are sensible after normalization. \n",
    "# This has been commented out to avoid cluttering things,\n",
    "\n",
    "\n",
    "# for key in cleaned_df.keys(): \n",
    "    \n",
    "#     arr = cleaned_df[key].unique()\n",
    "#     print(key)\n",
    "#     print(\"-----------\")\n",
    "#     try:\n",
    "#         print(np.sort(arr))\n",
    "#     except: \n",
    "#         print(arr)\n",
    "#     plt.plot(np.sort(cleaned_df[key]))\n",
    "#     plt.show()"
   ]
  },
  {
   "cell_type": "code",
   "execution_count": 6,
   "id": "d8c9e875",
   "metadata": {},
   "outputs": [],
   "source": [
    "# Shuffle the dataframe to prevent ordering bias. \n",
    "cleaned_df = cleaned_df.sample(frac=1).reset_index(drop=True)\n",
    "\n",
    "\n",
    "# Taking our dataframe and extracting the relevant data as matrices. \n",
    "Y_dataset = cleaned_df[\"Price\"].values\n",
    "cleaned_df.drop(axis = 1, columns=[\"Price\"], inplace=True)\n",
    "\n",
    "X_dataset = cleaned_df.values\n",
    "\n",
    "# 80/20 train test split\n",
    "cutoff_value = int(0.8 * len(Y_dataset))\n",
    "\n",
    "X_train = X_dataset[:cutoff_value]\n",
    "X_test = X_dataset[cutoff_value:]\n",
    "\n",
    "Y_train = Y_dataset[:cutoff_value]\n",
    "Y_test = Y_dataset[cutoff_value:]\n",
    "\n",
    "# Convert to numpy arrays. \n",
    "train_indices = np.array(range(len(X_train)))\n",
    "test_indices = np.array(range(len(X_test)))\n",
    "\n",
    "X_train = np.array(X_train)[train_indices.astype(int)]\n",
    "X_test = np.array(X_test)[test_indices.astype(int)]\n",
    "Y_train = np.array(Y_train)[train_indices.astype(int)]\n",
    "Y_test = np.array(Y_test)[test_indices.astype(int)]\n",
    "\n",
    "\n",
    "# No longer needed. \n",
    "del cutoff_value, X_dataset, Y_dataset"
   ]
  },
  {
   "cell_type": "markdown",
   "id": "f0a3fb5c",
   "metadata": {},
   "source": [
    "## Network Topologies and Training \n",
    "\n",
    "To estimate housing prices, three different networks were constructed. The first was simple network that could outperform a pre-selected baseline, the second was a high-capacity network that was deliberately meant to overfit, and the third was a final network that was an optimized and regularized version of the high-capacity network  For the baseline measure of success, the simple average of the housing prices in the training dataset was selected.   \n",
    "\n",
    "For all of the layers in every network the only activations used were ReLU. The output in every network was a single neuron with relu activation, as the variable of interest for this assignment was house prices which are positive real numbers that range from 0 to several million, making ReLU a natural choice. \n",
    "\n",
    "For the loss metric, mean absolute error (MAE) was chosen. This was because the task was estimating asset prices, and in such a task financial loss and gain is completely fungible (i.e. losing 5,000 dollars twice is exactly as bad as losing 10,000 dollars once). Early experimentation also revealed that fitting was very bad with mean squared error, as the network became far too sensitive to outliers (i.e. the smaller number of extremely expensive properties). \n",
    "\n",
    "For the optimizer, the ADAM (adaptive moment estimation) optimizer was chosen, as it is a more advanced optimizer that builds on the work of previous optimizers such as AdaGrad and RMSProp by making use of both the first and second statistical moments for gradient updates. All parameters for the ADAM optimizer were kept constant at the default values with the exception of the learning rate, which was part of hyperparameter optimization for finding the final model\n",
    "\n",
    "For hyperparameter optimization, the strategy employed was a simple grid search. The two hyperparameters considered were the batch size (8, 16, 32, or 64) and the learning rate (0.005, 0.001, 0.0005, or 0.0001). The number of epochs was kept constant at 200. The training and testing sets were a simple 80/20 split, meaning that each training set was 64% of the data, each validation set was 16% of the data, and the testing set was 20% of the data. \n",
    "\n",
    "For validation, simple hold-out validation was used where the the validation set was always 20% of the data in the training set, randomly chosen each time before training. The model's performance on the validation set was used to select the best hyperparameters for training the final mode, and performance on the validation and training sets was also used to identify the ideal number of training\n",
    "\n",
    "After hyperparameter optimization, the best set of hyperparameters was fed into a final model consisting of two hidden layers of 32 neurons, dropout of 0.2, and relu activation. The final model was trained for 2,400 epochs to try and get the most ideal fit on the training data. "
   ]
  },
  {
   "cell_type": "markdown",
   "id": "25ed090c",
   "metadata": {},
   "source": [
    "### Baseline. \n",
    "\n",
    "The \"baseline\" model is simply the average of the house prices on the training dataset. "
   ]
  },
  {
   "cell_type": "code",
   "execution_count": 7,
   "id": "08812c28",
   "metadata": {},
   "outputs": [
    {
     "name": "stdout",
     "output_type": "stream",
     "text": [
      "MAE on training set if just taking the average: 449500.7725411852\n",
      "MAE on testing set if just taking the average: 456321.5907042787\n"
     ]
    }
   ],
   "source": [
    "train_preds = [np.nanmean(Y_train)] * len(Y_train)\n",
    "test_preds = [np.nanmean(Y_train)] * len(Y_test)\n",
    "\n",
    "\n",
    "print(\"MAE on training set if just taking the average: {}\".format(mean_absolute_error(Y_train, train_preds)))\n",
    "print(\"MAE on testing set if just taking the average: {}\".format(mean_absolute_error(Y_test, test_preds)))\n",
    "del train_preds, test_preds"
   ]
  },
  {
   "cell_type": "markdown",
   "id": "c5c28d7b",
   "metadata": {},
   "source": [
    "### Simple Model. \n",
    "\n",
    "A simple model that performs better than the baseline. The model consists of two hidden layers, each with 8 neurons. All activations are Relu. The model has a batch size of 32, a learning rate of 0.001, and is trained for 200 epochs. The model is able to beat the baseline score, as demonstrated below. "
   ]
  },
  {
   "cell_type": "code",
   "execution_count": null,
   "id": "c75ff556",
   "metadata": {},
   "outputs": [],
   "source": [
    "simp_network = models.Sequential()\n",
    "simp_network.add(layers.Dense(8, activation='relu', input_shape=(20, )))\n",
    "simp_network.add(layers.Dense(8, activation='relu', input_shape=(8, )))\n",
    "simp_network.add(layers.Dense(1, activation='relu', input_shape= (8, )))\n",
    "\n",
    "# optimiser, loss and metrics are chosen at compilation\n",
    "simp_network.compile(optimizer=Adam(lr=0.001),\n",
    "                loss='mean_absolute_error', \n",
    "                metrics=[\"mean_absolute_error\"])\n",
    "\n",
    "\n",
    "simp_network.fit(X_train, \n",
    "                Y_train, \n",
    "                epochs=200,                 # Run for 200 epochs. \n",
    "                batch_size = 32, \n",
    "                )"
   ]
  },
  {
   "cell_type": "code",
   "execution_count": 10,
   "id": "8585cfe3",
   "metadata": {},
   "outputs": [
    {
     "name": "stdout",
     "output_type": "stream",
     "text": [
      "Train MAE: 280723.8074483635\n",
      "Test MAE: 288779.00253262854\n"
     ]
    }
   ],
   "source": [
    "print(\"Train MAE: {}\".format(mean_absolute_error(simp_network.predict(X_train), Y_train)))\n",
    "print(\"Test MAE: {}\".format(mean_absolute_error(simp_network.predict(X_test), Y_test)))"
   ]
  },
  {
   "cell_type": "markdown",
   "id": "219e95ff",
   "metadata": {},
   "source": [
    "### Model  that overfits. \n",
    "\n",
    "A deliberately over-capacity model that performs better than the baseline. The model consists of five hidden layers, each with 32 neurons. All activations are Relu. The model has a batch size of 32, a learning rate of 0.001, and is trained for 3000 epochs. After extension experimentation, the point where overfitting happens is around epoch 2400."
   ]
  },
  {
   "cell_type": "code",
   "execution_count": null,
   "id": "b749c6ce",
   "metadata": {},
   "outputs": [],
   "source": [
    "overfit_network = models.Sequential()\n",
    "overfit_network.add(layers.Dense(32, activation='relu', input_shape=(20, )))\n",
    "overfit_network.add(layers.Dense(32, activation='relu', input_shape=(32, )))\n",
    "overfit_network.add(layers.Dense(32, activation='relu', input_shape=(32, )))\n",
    "overfit_network.add(layers.Dense(32, activation='relu', input_shape=(32, )))\n",
    "overfit_network.add(layers.Dense(32, activation='relu', input_shape=(32, )))\n",
    "overfit_network.add(layers.Dense(1, activation='relu', input_shape= (32, )))\n",
    "\n",
    "# optimiser\n",
    "overfit_network.compile(optimizer=Adam(lr=0.001),\n",
    "                loss='mean_absolute_error', \n",
    "                metrics=[\"mean_absolute_error\"])\n",
    "\n",
    "\n",
    "train_data, train_labels, val_data, val_labels = split_into_validate(X_train, Y_train, 0.2)\n",
    "\n",
    "\n",
    "learning_history = overfit_network.fit(\n",
    "                x = train_data, \n",
    "                y = train_labels, \n",
    "                epochs=3000,                 # Run for 3000 epochs. \n",
    "                batch_size = 32, \n",
    "                validation_data = (val_data, val_labels)\n",
    "                )\n",
    "\n",
    "# No longer needed past this point. \n",
    "del train_data, train_labels, val_data, val_labels"
   ]
  },
  {
   "cell_type": "code",
   "execution_count": 12,
   "id": "eae47d2b",
   "metadata": {},
   "outputs": [
    {
     "name": "stdout",
     "output_type": "stream",
     "text": [
      "Train MAE: 170737.4840122614\n",
      "Test MAE: 193264.34697020095\n",
      "Best Epoch Number: 2403\n"
     ]
    }
   ],
   "source": [
    "print(\"Train MAE: {}\".format(mean_absolute_error(overfit_network.predict(X_train), Y_train)))\n",
    "print(\"Test MAE: {}\".format(mean_absolute_error(overfit_network.predict(X_test), Y_test)))\n",
    "\n",
    "best_epoch = np.argmin(learning_history.history['val_loss'])\n",
    "\n",
    "print(\"Best Epoch Number: {}\".format(best_epoch))"
   ]
  },
  {
   "cell_type": "code",
   "execution_count": 13,
   "id": "a23ba528",
   "metadata": {},
   "outputs": [
    {
     "data": {
      "image/png": "[encoded data removed]",
      "text/plain": [
       "<Figure size 432x288 with 1 Axes>"
      ]
     },
     "metadata": {
      "needs_background": "light"
     },
     "output_type": "display_data"
    }
   ],
   "source": [
    "plt.plot(range(3000), learning_history.history['loss'], label = \"Train\")\n",
    "plt.plot(range(3000), learning_history.history['val_loss'], label = \"Validation\")\n",
    "plt.title('Performance of the over-capacity model.')\n",
    "plt.ylabel('MAE')\n",
    "plt.xlabel('epoch')\n",
    "plt.legend(loc='upper right')\n",
    "plt.show()\n",
    "# plt.savefig(\"bias_variance.png\")"
   ]
  },
  {
   "cell_type": "markdown",
   "id": "43c21be2",
   "metadata": {},
   "source": [
    "<br>\n",
    "<center><b>Figure 1:</b> Bias/Variance decomposition for the overfit network. </center>"
   ]
  },
  {
   "cell_type": "markdown",
   "id": "ef415360",
   "metadata": {},
   "source": [
    "### Final model\n",
    "\n",
    "The final model that makes use of hyperparameter optimization and regularization. Based on the results from training the overfitting network, the model was trained for 2,400 epochs. The model consisted of two layers of 32 neurons with dropout of 0.2 on each layer. \n",
    "\n",
    "For hyperparameter optimization, A unique model was trained for each hyperparameter combination (16 overall) for 200 epochs each. The validation and training loss for each of those individual networks was then recorded and used to determine the best hyperparameters for training the final. \n"
   ]
  },
  {
   "cell_type": "markdown",
   "id": "dbfa9457",
   "metadata": {},
   "source": [
    "#### Hyperparameter Optimization"
   ]
  },
  {
   "cell_type": "code",
   "execution_count": null,
   "id": "ec95f93e",
   "metadata": {},
   "outputs": [],
   "source": [
    "# Array to hold the train and validation scores for each combination. \n",
    "results_array = np.zeros(shape = (4, 4, 2))\n",
    "\n",
    "\n",
    "for i, batch_size in enumerate([8, 16, 32, 64]):\n",
    "    for j, learning_rate in enumerate([0.005, 0.001, 0.0005, 0.0001]):\n",
    "        \n",
    "        # Garbage collection for optimization reasons.\n",
    "        gc.collect()\n",
    "        \n",
    "        # Deliberately over-capacity fully connected network. For the final network, these 512 layers will be replaced\n",
    "        # with 32 neurons. \n",
    "        network = models.Sequential()\n",
    "        network.add(layers.Dense(32, activation='relu', input_shape=(20, )))\n",
    "        network.add(layers.Dropout(.2, input_shape=(32,)))\n",
    "        network.add(layers.Dense(32, activation='relu', input_shape=(32, )))\n",
    "        network.add(layers.Dropout(.2, input_shape=(32,)))\n",
    "        network.add(layers.Dense(1, activation='relu', input_shape= (32, )))\n",
    "\n",
    "        # optimiser, loss and metrics are chosen at compilation\n",
    "        network.compile(optimizer=Adam(lr=learning_rate),\n",
    "                        loss='mean_absolute_error', \n",
    "                        metrics=[\"mean_absolute_error\"])\n",
    "        \n",
    "        \n",
    "        train_data, train_labels, val_data, val_labels = split_into_validate(X_train, Y_train, 0.2)\n",
    "        \n",
    "        learning_history = network.fit(\n",
    "                x = train_data, \n",
    "                y = train_labels, \n",
    "                epochs=200,                 # Run for 200 epochs. \n",
    "                batch_size = 32, \n",
    "                validation_data = (val_data, val_labels)\n",
    "                )\n",
    "        \n",
    "        \n",
    "\n",
    "        results_array[i, j, 0] = np.min(learning_history.history[\"loss\"])\n",
    "        results_array[i, j, 1] = np.min(learning_history.history[\"val_loss\"])\n",
    "        \n",
    "del train_data, train_labels, val_data, val_labels"
   ]
  },
  {
   "cell_type": "code",
   "execution_count": 15,
   "id": "7f12959e",
   "metadata": {},
   "outputs": [
    {
     "name": "stdout",
     "output_type": "stream",
     "text": [
      "best batch size indice: 1\n",
      "best learning rate indice: 0\n"
     ]
    },
    {
     "data": {
      "image/png": "[encoded data removed]",
      "text/plain": [
       "<Figure size 432x288 with 1 Axes>"
      ]
     },
     "metadata": {
      "needs_background": "light"
     },
     "output_type": "display_data"
    }
   ],
   "source": [
    "# Finding the best hyperparameters based on the validation performance. \n",
    "best = np.min(results_array[:, :, 1])\n",
    "indices_of_best_validation = np.where(results_array[:, :, 1]==best)\n",
    "        \n",
    "print(\"best batch size indice: {}\".format(indices_of_best_validation[0][0]))\n",
    "print(\"best learning rate indice: {}\".format(indices_of_best_validation[1][0]))\n",
    "\n",
    "\n",
    "# Plotting df to hold our values \n",
    "plotting_df = pd.DataFrame({\"validation\": results_array[:, :, 1].flatten(), \n",
    "                            \"training\": results_array[:, :, 0].flatten()})\n",
    "\n",
    "plotting_df.sort_values(by = \"training\", ascending=False, inplace=True)\n",
    "plotting_df.reset_index(drop=True, inplace=True)\n",
    "\n",
    "# Plot train and validation, by training descending\n",
    "plt.plot(range(1, 17), plotting_df[\"training\"], '-o', c = \"blue\", label = \"training_loss\")\n",
    "plt.plot(range(1, 17), plotting_df[\"validation\"], '-o', c = \"red\", label = \"validation_loss\")\n",
    "\n",
    "plt.xlabel(\"\")\n",
    "plt.ylabel(\"MAE\")\n",
    "plt.title(\"Loss\")\n",
    "plt.legend()\n",
    "plt.show()\n",
    "# plt.savefig(\"train_and_val_plot.png\")\n",
    "\n",
    "# # no longer_needed\n",
    "del plotting_df, best, indices_of_best_validation"
   ]
  },
  {
   "cell_type": "markdown",
   "id": "69f7e373",
   "metadata": {},
   "source": [
    "<br>\n",
    "<center><b>Figure 2:</b> Training and Validation loss for every hyperparameter combination. Notice the serated pattern, implying that one of the hyperparameters is more important than the other.  </center>"
   ]
  },
  {
   "cell_type": "markdown",
   "id": "6486e8ac",
   "metadata": {},
   "source": [
    "#### Final Model training. "
   ]
  },
  {
   "cell_type": "code",
   "execution_count": null,
   "id": "a0389fa8",
   "metadata": {},
   "outputs": [],
   "source": [
    "# Real final model here. Learning rate and batch size selected based off of previous hyperparameter optimization. \n",
    "final_network = models.Sequential()\n",
    "final_network.add(layers.Dense(32, activation='relu', input_shape=(20, )))\n",
    "final_network.add(layers.Dropout(.2, input_shape=(32,)))\n",
    "final_network.add(layers.Dense(32, activation='relu', input_shape=(32, )))\n",
    "final_network.add(layers.Dropout(.2, input_shape=(32,)))\n",
    "final_network.add(layers.Dense(1, activation='relu', input_shape= (32, )))\n",
    "\n",
    "\n",
    "\n",
    "# optimiser, loss and metrics are chosen at compilation\n",
    "final_network.compile(optimizer=Adam(lr=0.005),\n",
    "                loss='mean_absolute_error', \n",
    "                metrics=[\"mean_absolute_error\"])\n",
    "\n",
    "\n",
    "learning_history = final_network.fit(\n",
    "                x = X_train, \n",
    "                y = Y_train, \n",
    "                epochs=2400,                 # Run for 2400 epochs. \n",
    "                batch_size = 16\n",
    "                )"
   ]
  },
  {
   "cell_type": "code",
   "execution_count": 17,
   "id": "6cc75f1a",
   "metadata": {},
   "outputs": [
    {
     "name": "stdout",
     "output_type": "stream",
     "text": [
      "Final Model Train MAE: 200119.21404586852\n",
      "Final Model Test MAE: 208717.87287231602\n"
     ]
    }
   ],
   "source": [
    "print(\"Final Model Train MAE: {}\".format(mean_absolute_error(final_network.predict(X_train), Y_train)))\n",
    "print(\"Final Model Test MAE: {}\".format(mean_absolute_error(final_network.predict(X_test), Y_test)))"
   ]
  },
  {
   "cell_type": "markdown",
   "id": "be5dce25",
   "metadata": {},
   "source": [
    "# Results"
   ]
  },
  {
   "cell_type": "markdown",
   "id": "2bbc4c58",
   "metadata": {},
   "source": [
    "The results of the hyperparameter selection are displayed in Figure 2. The best hyperparameter combination was a learning rate of 0.005 and a batch size of 16, which were forwarded and used to train the final model. \n",
    "\n",
    "The final network did perform fairly well, as can be seen in Figures 3 and 4, though not quite as well as the overfit model. The final network demonstrated substantial improvement over average imputation, though there was still quite some room for improvement, particulary given the network's noticable inabillity to accurately forecast the lowest value homes in both the training set and the testing set. Finding the \"sweet\" spot in terms of fitting was also quite tricky, with both the overfit model and the final model scoring better on the training set than the testing set. \n",
    "\n",
    "Overall, despite a few hiccups the universal workflow of machine learning was followed closely, with substantial improvement seen across multiple networks, though never quite to the desired level of performance. Table 2 shows the performance for every network. "
   ]
  },
  {
   "cell_type": "code",
   "execution_count": 18,
   "id": "bc7dd9c5",
   "metadata": {},
   "outputs": [
    {
     "data": {
      "image/png": "[encoded data removed]",
      "text/plain": [
       "<Figure size 432x288 with 1 Axes>"
      ]
     },
     "metadata": {
      "needs_background": "light"
     },
     "output_type": "display_data"
    },
    {
     "data": {
      "text/plain": [
       "<Figure size 432x288 with 0 Axes>"
      ]
     },
     "metadata": {},
     "output_type": "display_data"
    }
   ],
   "source": [
    "# Make two different dfs: one for the training set and one for the testing set. \n",
    "train_pred = final_network.predict(X_train)\n",
    "train_plot_df = pd.DataFrame({\"Actual\": np.squeeze(Y_train), \"Predicted\": np.squeeze(train_pred)})\n",
    "train_plot_df.sort_values(by = \"Actual\", ascending=True, inplace=True)\n",
    "train_plot_df.reset_index(drop=True, inplace=True)\n",
    "\n",
    "test_pred = final_network.predict(X_test)\n",
    "test_plot_df = pd.DataFrame({\"Actual\": np.squeeze(Y_test), \"Predicted\": np.squeeze(test_pred)})\n",
    "test_plot_df.sort_values(by = \"Actual\", ascending=True, inplace=True)\n",
    "test_plot_df.reset_index(drop=True, inplace=True)\n",
    "\n",
    "# Plot training\n",
    "plt.plot(range(0, 21000, 21), train_plot_df[\"Actual\"][range(0, 21000, 21)], c = \"blue\", label = \"actual\")\n",
    "plt.plot(range(0, 21000, 21), train_plot_df[\"Predicted\"][range(0, 21000, 21)], c = \"red\", \n",
    "         label = \"predicted\", alpha = 0.7)\n",
    "plt.xlabel(\"\")\n",
    "plt.ylabel(\"predicted price\")\n",
    "plt.xlabel(\"index\")\n",
    "plt.title(\"Train set predicted vs. actual\")\n",
    "plt.legend(loc=\"upper left\")\n",
    "plt.show()\n",
    "# plt.savefig(\"train_performance.png\")\n"
   ]
  },
  {
   "cell_type": "markdown",
   "id": "95f6df89",
   "metadata": {},
   "source": [
    "<br>\n",
    "<center><b>Figure 3:</b> Final model performance on the training set </center>"
   ]
  },
  {
   "cell_type": "code",
   "execution_count": 19,
   "id": "4a0345bf",
   "metadata": {},
   "outputs": [
    {
     "data": {
      "image/png": "[encoded data removed]",
      "text/plain": [
       "<Figure size 432x288 with 1 Axes>"
      ]
     },
     "metadata": {
      "needs_background": "light"
     },
     "output_type": "display_data"
    },
    {
     "data": {
      "text/plain": [
       "<Figure size 432x288 with 0 Axes>"
      ]
     },
     "metadata": {},
     "output_type": "display_data"
    }
   ],
   "source": [
    "# Plot testing. \n",
    "plt.plot(range(0, 5000, 5), test_plot_df[\"Actual\"][range(0, 5000, 5)], c = \"blue\", label = \"actual\")\n",
    "plt.plot(range(0, 5000, 5), test_plot_df[\"Predicted\"][range(0, 5000, 5)], c = \"red\", \n",
    "         label = \"predicted\", alpha = 0.7)\n",
    "plt.xlabel(\"\")\n",
    "plt.ylabel(\"predicted price\")\n",
    "plt.xlabel(\"index\")\n",
    "plt.title(\"Test set predicted vs. actual\")\n",
    "plt.legend(loc=\"upper left\")\n",
    "plt.show()\n",
    "# plt.savefig(\"test_performance.png\")"
   ]
  },
  {
   "cell_type": "markdown",
   "id": "74a0e6f9",
   "metadata": {},
   "source": [
    "<br>\n",
    "<center><b>Figure 4:</b> Final model performance on the testing set </center>"
   ]
  },
  {
   "cell_type": "markdown",
   "id": "05cb7568",
   "metadata": {},
   "source": [
    "## Table of Final Results\n",
    "\n",
    "| Model | MAE Train Loss | MAE Test Loss \n",
    "| --- | --- | --- |\n",
    "| Average Price | 449500 | 456321|\n",
    "| Simple Model | 280723 | 288779|\n",
    "| Overfit Model | 170737 | 193264|\n",
    "| Final Model | 200119 | 208717|\n",
    "\n",
    "\n",
    "\n",
    "<br>\n",
    "<center><b>Table 2:</b> Table of all train/test model performance </center>"
   ]
  },
  {
   "cell_type": "markdown",
   "id": "2568a532",
   "metadata": {},
   "source": [
    "# Conclusions"
   ]
  },
  {
   "cell_type": "markdown",
   "id": "c4d27080",
   "metadata": {},
   "source": [
    "The assignment proved to be more difficult than expected, as a truly archetypal example of overfitting was never achieved and the process of making sure all details were right for for all of the different training runs (and avoiding information leaks) was quite difficult. As the old saying goes, \"programming is the art of a thousand details.\"\n",
    "\n",
    "One lesson to take away from this assignment is the importance of feature engineering. Part of the final network’s underperformance can probably be attributed to the fact that it was very hard to get useful geographic data from the dataset (location, location, location…). There were also very important questions of feature engineering and feature inclusion that did not have any obvious answers, and there is a lot of potential for ruining a project before any modeling actually happens just by choosing features badly. \n",
    "\n",
    "Another important lesson I was reminded of was the sheer complexity of hyperparameter optimization. Selecting from among just 16 hyperparameters and doing validation took many minutes, even with a top-of-the-line graphics card. In real-life, “try all possibilities” (the “responsible” thing to do) is almost never practical, and data scientists have to be judicious with the ways their spend time and decide what areas are worthy of investigation and experimentation. It introduces an import element of intuition into the workflow of machine learning that cannot be easily automated away. \n",
    "\n",
    "In the future, one better approach than deep learning might be a high-dimensional version of KNN with both temporal and chronological data, assuming the appropriate data can found. Another possible approach be an ensemble model of simple regressors or simpler neural networks, each trained on different feature subsets. \n"
   ]
  },
  {
   "cell_type": "markdown",
   "id": "e6c65bfc",
   "metadata": {},
   "source": [
    "# Code Attribution"
   ]
  },
  {
   "cell_type": "markdown",
   "id": "22685781",
   "metadata": {},
   "source": [
    "All code in this notebook was my own. No code was taken from the module notebooks."
   ]
  }
 ],
 "metadata": {
  "kernelspec": {
   "display_name": "Python 3 (ipykernel)",
   "language": "python",
   "name": "python3"
  },
  "language_info": {
   "codemirror_mode": {
    "name": "ipython",
    "version": 3
   },
   "file_extension": ".py",
   "mimetype": "text/x-python",
   "name": "python",
   "nbconvert_exporter": "python",
   "pygments_lexer": "ipython3",
   "version": "3.8.12"
  },
  "varInspector": {
   "cols": {
    "lenName": 16,
    "lenType": 16,
    "lenVar": 40
   },
   "kernels_config": {
    "python": {
     "delete_cmd_postfix": "",
     "delete_cmd_prefix": "del ",
     "library": "var_list.py",
     "varRefreshCmd": "print(var_dic_list())"
    },
    "r": {
     "delete_cmd_postfix": ") ",
     "delete_cmd_prefix": "rm(",
     "library": "var_list.r",
     "varRefreshCmd": "cat(var_dic_list()) "
    }
   },
   "position": {
    "height": "514.844px",
    "left": "1414px",
    "right": "20px",
    "top": "120px",
    "width": "497px"
   },
   "types_to_exclude": [
    "module",
    "function",
    "builtin_function_or_method",
    "instance",
    "_Feature"
   ],
   "window_display": false
  }
 },
 "nbformat": 4,
 "nbformat_minor": 5
}
